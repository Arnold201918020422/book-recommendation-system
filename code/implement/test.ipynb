{
 "cells": [
  {
   "cell_type": "code",
   "execution_count": 13,
   "metadata": {
    "collapsed": true
   },
   "outputs": [],
   "source": [
    "import pandas as pd\n",
    "import os\n",
    "from sklearn.preprocessing import LabelEncoder, OneHotEncoder, KBinsDiscretizer\n",
    "import numpy as np"
   ]
  },
  {
   "cell_type": "code",
   "execution_count": 14,
   "outputs": [],
   "source": [
    "labelencoder = LabelEncoder()\n",
    "onehotendoer = OneHotEncoder()\n",
    "kbin = KBinsDiscretizer(n_bins=200)"
   ],
   "metadata": {
    "collapsed": false,
    "pycharm": {
     "name": "#%%\n"
    }
   }
  },
  {
   "cell_type": "code",
   "execution_count": 15,
   "outputs": [],
   "source": [
    "DATA_DIR = os.path.join(os.getcwd(), \"data\", \"mix_data.csv\")"
   ],
   "metadata": {
    "collapsed": false,
    "pycharm": {
     "name": "#%%\n"
    }
   }
  },
  {
   "cell_type": "code",
   "execution_count": 16,
   "outputs": [
    {
     "data": {
      "text/plain": "         user_id                   location        age        isbn  rating  \\\n0              2  stockton, california, usa  18.000000  0195153448     0.0   \n1              8   timmins, ontario, canada  34.744129  0002005018     5.0   \n2          11400    ottawa, ontario, canada  49.000000  0002005018     0.0   \n3          11676              n/a, n/a, n/a  34.744129  0002005018     8.0   \n4          41385   sudbury, ontario, canada  34.744129  0002005018     0.0   \n...          ...                        ...        ...         ...     ...   \n1031127   278851         dallas, texas, usa  33.000000  0743203763     0.0   \n1031128   278851         dallas, texas, usa  33.000000  0767907566     5.0   \n1031129   278851         dallas, texas, usa  33.000000  0884159221     7.0   \n1031130   278851         dallas, texas, usa  33.000000  0912333022     7.0   \n1031131   278851         dallas, texas, usa  33.000000  1569661057    10.0   \n\n                                                book_title  \\\n0                                      Classical Mythology   \n1                                             Clara Callan   \n2                                             Clara Callan   \n3                                             Clara Callan   \n4                                             Clara Callan   \n...                                                    ...   \n1031127  As Hogan Said . . . : The 389 Best Things Anyo...   \n1031128  All Elevations Unknown: An Adventure in the He...   \n1031129  Why stop?: A guide to Texas historical roadsid...   \n1031130  The Are You Being Served? Stories: 'Camping In...   \n1031131  Dallas Street Map Guide and Directory, 2000 Ed...   \n\n                  book_author  year_of_publication                 publisher  \\\n0          Mark P. O. Morford               2002.0   Oxford University Press   \n1        Richard Bruce Wright               2001.0     HarperFlamingo Canada   \n2        Richard Bruce Wright               2001.0     HarperFlamingo Canada   \n3        Richard Bruce Wright               2001.0     HarperFlamingo Canada   \n4        Richard Bruce Wright               2001.0     HarperFlamingo Canada   \n...                       ...                  ...                       ...   \n1031127        Randy Voorhees               2000.0      Simon &amp; Schuster   \n1031128          Sam Lightner               2001.0            Broadway Books   \n1031129         Claude Dooley               1985.0           Lone Star Books   \n1031130          Jeremy Lloyd               1997.0                Kqed Books   \n1031131                Mapsco               1999.0  American Map Corporation   \n\n                                                     img_s  \\\n0        http://images.amazon.com/images/P/0195153448.0...   \n1        http://images.amazon.com/images/P/0002005018.0...   \n2        http://images.amazon.com/images/P/0002005018.0...   \n3        http://images.amazon.com/images/P/0002005018.0...   \n4        http://images.amazon.com/images/P/0002005018.0...   \n...                                                    ...   \n1031127  http://images.amazon.com/images/P/0743203763.0...   \n1031128  http://images.amazon.com/images/P/0767907566.0...   \n1031129  http://images.amazon.com/images/P/0884159221.0...   \n1031130  http://images.amazon.com/images/P/0912333022.0...   \n1031131  http://images.amazon.com/images/P/1569661057.0...   \n\n                                                     img_m  \\\n0        http://images.amazon.com/images/P/0195153448.0...   \n1        http://images.amazon.com/images/P/0002005018.0...   \n2        http://images.amazon.com/images/P/0002005018.0...   \n3        http://images.amazon.com/images/P/0002005018.0...   \n4        http://images.amazon.com/images/P/0002005018.0...   \n...                                                    ...   \n1031127  http://images.amazon.com/images/P/0743203763.0...   \n1031128  http://images.amazon.com/images/P/0767907566.0...   \n1031129  http://images.amazon.com/images/P/0884159221.0...   \n1031130  http://images.amazon.com/images/P/0912333022.0...   \n1031131  http://images.amazon.com/images/P/1569661057.0...   \n\n                                                     img_l  \n0        http://images.amazon.com/images/P/0195153448.0...  \n1        http://images.amazon.com/images/P/0002005018.0...  \n2        http://images.amazon.com/images/P/0002005018.0...  \n3        http://images.amazon.com/images/P/0002005018.0...  \n4        http://images.amazon.com/images/P/0002005018.0...  \n...                                                    ...  \n1031127  http://images.amazon.com/images/P/0743203763.0...  \n1031128  http://images.amazon.com/images/P/0767907566.0...  \n1031129  http://images.amazon.com/images/P/0884159221.0...  \n1031130  http://images.amazon.com/images/P/0912333022.0...  \n1031131  http://images.amazon.com/images/P/1569661057.0...  \n\n[1031132 rows x 12 columns]",
      "text/html": "<div>\n<style scoped>\n    .dataframe tbody tr th:only-of-type {\n        vertical-align: middle;\n    }\n\n    .dataframe tbody tr th {\n        vertical-align: top;\n    }\n\n    .dataframe thead th {\n        text-align: right;\n    }\n</style>\n<table border=\"1\" class=\"dataframe\">\n  <thead>\n    <tr style=\"text-align: right;\">\n      <th></th>\n      <th>user_id</th>\n      <th>location</th>\n      <th>age</th>\n      <th>isbn</th>\n      <th>rating</th>\n      <th>book_title</th>\n      <th>book_author</th>\n      <th>year_of_publication</th>\n      <th>publisher</th>\n      <th>img_s</th>\n      <th>img_m</th>\n      <th>img_l</th>\n    </tr>\n  </thead>\n  <tbody>\n    <tr>\n      <th>0</th>\n      <td>2</td>\n      <td>stockton, california, usa</td>\n      <td>18.000000</td>\n      <td>0195153448</td>\n      <td>0.0</td>\n      <td>Classical Mythology</td>\n      <td>Mark P. O. Morford</td>\n      <td>2002.0</td>\n      <td>Oxford University Press</td>\n      <td>http://images.amazon.com/images/P/0195153448.0...</td>\n      <td>http://images.amazon.com/images/P/0195153448.0...</td>\n      <td>http://images.amazon.com/images/P/0195153448.0...</td>\n    </tr>\n    <tr>\n      <th>1</th>\n      <td>8</td>\n      <td>timmins, ontario, canada</td>\n      <td>34.744129</td>\n      <td>0002005018</td>\n      <td>5.0</td>\n      <td>Clara Callan</td>\n      <td>Richard Bruce Wright</td>\n      <td>2001.0</td>\n      <td>HarperFlamingo Canada</td>\n      <td>http://images.amazon.com/images/P/0002005018.0...</td>\n      <td>http://images.amazon.com/images/P/0002005018.0...</td>\n      <td>http://images.amazon.com/images/P/0002005018.0...</td>\n    </tr>\n    <tr>\n      <th>2</th>\n      <td>11400</td>\n      <td>ottawa, ontario, canada</td>\n      <td>49.000000</td>\n      <td>0002005018</td>\n      <td>0.0</td>\n      <td>Clara Callan</td>\n      <td>Richard Bruce Wright</td>\n      <td>2001.0</td>\n      <td>HarperFlamingo Canada</td>\n      <td>http://images.amazon.com/images/P/0002005018.0...</td>\n      <td>http://images.amazon.com/images/P/0002005018.0...</td>\n      <td>http://images.amazon.com/images/P/0002005018.0...</td>\n    </tr>\n    <tr>\n      <th>3</th>\n      <td>11676</td>\n      <td>n/a, n/a, n/a</td>\n      <td>34.744129</td>\n      <td>0002005018</td>\n      <td>8.0</td>\n      <td>Clara Callan</td>\n      <td>Richard Bruce Wright</td>\n      <td>2001.0</td>\n      <td>HarperFlamingo Canada</td>\n      <td>http://images.amazon.com/images/P/0002005018.0...</td>\n      <td>http://images.amazon.com/images/P/0002005018.0...</td>\n      <td>http://images.amazon.com/images/P/0002005018.0...</td>\n    </tr>\n    <tr>\n      <th>4</th>\n      <td>41385</td>\n      <td>sudbury, ontario, canada</td>\n      <td>34.744129</td>\n      <td>0002005018</td>\n      <td>0.0</td>\n      <td>Clara Callan</td>\n      <td>Richard Bruce Wright</td>\n      <td>2001.0</td>\n      <td>HarperFlamingo Canada</td>\n      <td>http://images.amazon.com/images/P/0002005018.0...</td>\n      <td>http://images.amazon.com/images/P/0002005018.0...</td>\n      <td>http://images.amazon.com/images/P/0002005018.0...</td>\n    </tr>\n    <tr>\n      <th>...</th>\n      <td>...</td>\n      <td>...</td>\n      <td>...</td>\n      <td>...</td>\n      <td>...</td>\n      <td>...</td>\n      <td>...</td>\n      <td>...</td>\n      <td>...</td>\n      <td>...</td>\n      <td>...</td>\n      <td>...</td>\n    </tr>\n    <tr>\n      <th>1031127</th>\n      <td>278851</td>\n      <td>dallas, texas, usa</td>\n      <td>33.000000</td>\n      <td>0743203763</td>\n      <td>0.0</td>\n      <td>As Hogan Said . . . : The 389 Best Things Anyo...</td>\n      <td>Randy Voorhees</td>\n      <td>2000.0</td>\n      <td>Simon &amp;amp; Schuster</td>\n      <td>http://images.amazon.com/images/P/0743203763.0...</td>\n      <td>http://images.amazon.com/images/P/0743203763.0...</td>\n      <td>http://images.amazon.com/images/P/0743203763.0...</td>\n    </tr>\n    <tr>\n      <th>1031128</th>\n      <td>278851</td>\n      <td>dallas, texas, usa</td>\n      <td>33.000000</td>\n      <td>0767907566</td>\n      <td>5.0</td>\n      <td>All Elevations Unknown: An Adventure in the He...</td>\n      <td>Sam Lightner</td>\n      <td>2001.0</td>\n      <td>Broadway Books</td>\n      <td>http://images.amazon.com/images/P/0767907566.0...</td>\n      <td>http://images.amazon.com/images/P/0767907566.0...</td>\n      <td>http://images.amazon.com/images/P/0767907566.0...</td>\n    </tr>\n    <tr>\n      <th>1031129</th>\n      <td>278851</td>\n      <td>dallas, texas, usa</td>\n      <td>33.000000</td>\n      <td>0884159221</td>\n      <td>7.0</td>\n      <td>Why stop?: A guide to Texas historical roadsid...</td>\n      <td>Claude Dooley</td>\n      <td>1985.0</td>\n      <td>Lone Star Books</td>\n      <td>http://images.amazon.com/images/P/0884159221.0...</td>\n      <td>http://images.amazon.com/images/P/0884159221.0...</td>\n      <td>http://images.amazon.com/images/P/0884159221.0...</td>\n    </tr>\n    <tr>\n      <th>1031130</th>\n      <td>278851</td>\n      <td>dallas, texas, usa</td>\n      <td>33.000000</td>\n      <td>0912333022</td>\n      <td>7.0</td>\n      <td>The Are You Being Served? Stories: 'Camping In...</td>\n      <td>Jeremy Lloyd</td>\n      <td>1997.0</td>\n      <td>Kqed Books</td>\n      <td>http://images.amazon.com/images/P/0912333022.0...</td>\n      <td>http://images.amazon.com/images/P/0912333022.0...</td>\n      <td>http://images.amazon.com/images/P/0912333022.0...</td>\n    </tr>\n    <tr>\n      <th>1031131</th>\n      <td>278851</td>\n      <td>dallas, texas, usa</td>\n      <td>33.000000</td>\n      <td>1569661057</td>\n      <td>10.0</td>\n      <td>Dallas Street Map Guide and Directory, 2000 Ed...</td>\n      <td>Mapsco</td>\n      <td>1999.0</td>\n      <td>American Map Corporation</td>\n      <td>http://images.amazon.com/images/P/1569661057.0...</td>\n      <td>http://images.amazon.com/images/P/1569661057.0...</td>\n      <td>http://images.amazon.com/images/P/1569661057.0...</td>\n    </tr>\n  </tbody>\n</table>\n<p>1031132 rows × 12 columns</p>\n</div>"
     },
     "execution_count": 16,
     "metadata": {},
     "output_type": "execute_result"
    }
   ],
   "source": [
    "df = pd.read_csv(DATA_DIR)\n",
    "df"
   ],
   "metadata": {
    "collapsed": false,
    "pycharm": {
     "name": "#%%\n"
    }
   }
  },
  {
   "cell_type": "code",
   "execution_count": 17,
   "outputs": [],
   "source": [
    "df.dropna(inplace=True)"
   ],
   "metadata": {
    "collapsed": false,
    "pycharm": {
     "name": "#%%\n"
    }
   }
  },
  {
   "cell_type": "code",
   "execution_count": 18,
   "outputs": [],
   "source": [
    "df = df[['user_id', 'age', 'book_author', 'year_of_publication', 'publisher', 'rating']]"
   ],
   "metadata": {
    "collapsed": false,
    "pycharm": {
     "name": "#%%\n"
    }
   }
  },
  {
   "cell_type": "code",
   "execution_count": 19,
   "outputs": [
    {
     "data": {
      "text/plain": "         user_id        age           book_author  year_of_publication  \\\n0              2  18.000000    Mark P. O. Morford               2002.0   \n1              8  34.744129  Richard Bruce Wright               2001.0   \n2          11400  49.000000  Richard Bruce Wright               2001.0   \n3          11676  34.744129  Richard Bruce Wright               2001.0   \n4          41385  34.744129  Richard Bruce Wright               2001.0   \n...          ...        ...                   ...                  ...   \n1031127   278851  33.000000        Randy Voorhees               2000.0   \n1031128   278851  33.000000          Sam Lightner               2001.0   \n1031129   278851  33.000000         Claude Dooley               1985.0   \n1031130   278851  33.000000          Jeremy Lloyd               1997.0   \n1031131   278851  33.000000                Mapsco               1999.0   \n\n                        publisher  rating  \n0         Oxford University Press     0.0  \n1           HarperFlamingo Canada     5.0  \n2           HarperFlamingo Canada     0.0  \n3           HarperFlamingo Canada     8.0  \n4           HarperFlamingo Canada     0.0  \n...                           ...     ...  \n1031127      Simon &amp; Schuster     0.0  \n1031128            Broadway Books     5.0  \n1031129           Lone Star Books     7.0  \n1031130                Kqed Books     7.0  \n1031131  American Map Corporation    10.0  \n\n[1031132 rows x 6 columns]",
      "text/html": "<div>\n<style scoped>\n    .dataframe tbody tr th:only-of-type {\n        vertical-align: middle;\n    }\n\n    .dataframe tbody tr th {\n        vertical-align: top;\n    }\n\n    .dataframe thead th {\n        text-align: right;\n    }\n</style>\n<table border=\"1\" class=\"dataframe\">\n  <thead>\n    <tr style=\"text-align: right;\">\n      <th></th>\n      <th>user_id</th>\n      <th>age</th>\n      <th>book_author</th>\n      <th>year_of_publication</th>\n      <th>publisher</th>\n      <th>rating</th>\n    </tr>\n  </thead>\n  <tbody>\n    <tr>\n      <th>0</th>\n      <td>2</td>\n      <td>18.000000</td>\n      <td>Mark P. O. Morford</td>\n      <td>2002.0</td>\n      <td>Oxford University Press</td>\n      <td>0.0</td>\n    </tr>\n    <tr>\n      <th>1</th>\n      <td>8</td>\n      <td>34.744129</td>\n      <td>Richard Bruce Wright</td>\n      <td>2001.0</td>\n      <td>HarperFlamingo Canada</td>\n      <td>5.0</td>\n    </tr>\n    <tr>\n      <th>2</th>\n      <td>11400</td>\n      <td>49.000000</td>\n      <td>Richard Bruce Wright</td>\n      <td>2001.0</td>\n      <td>HarperFlamingo Canada</td>\n      <td>0.0</td>\n    </tr>\n    <tr>\n      <th>3</th>\n      <td>11676</td>\n      <td>34.744129</td>\n      <td>Richard Bruce Wright</td>\n      <td>2001.0</td>\n      <td>HarperFlamingo Canada</td>\n      <td>8.0</td>\n    </tr>\n    <tr>\n      <th>4</th>\n      <td>41385</td>\n      <td>34.744129</td>\n      <td>Richard Bruce Wright</td>\n      <td>2001.0</td>\n      <td>HarperFlamingo Canada</td>\n      <td>0.0</td>\n    </tr>\n    <tr>\n      <th>...</th>\n      <td>...</td>\n      <td>...</td>\n      <td>...</td>\n      <td>...</td>\n      <td>...</td>\n      <td>...</td>\n    </tr>\n    <tr>\n      <th>1031127</th>\n      <td>278851</td>\n      <td>33.000000</td>\n      <td>Randy Voorhees</td>\n      <td>2000.0</td>\n      <td>Simon &amp;amp; Schuster</td>\n      <td>0.0</td>\n    </tr>\n    <tr>\n      <th>1031128</th>\n      <td>278851</td>\n      <td>33.000000</td>\n      <td>Sam Lightner</td>\n      <td>2001.0</td>\n      <td>Broadway Books</td>\n      <td>5.0</td>\n    </tr>\n    <tr>\n      <th>1031129</th>\n      <td>278851</td>\n      <td>33.000000</td>\n      <td>Claude Dooley</td>\n      <td>1985.0</td>\n      <td>Lone Star Books</td>\n      <td>7.0</td>\n    </tr>\n    <tr>\n      <th>1031130</th>\n      <td>278851</td>\n      <td>33.000000</td>\n      <td>Jeremy Lloyd</td>\n      <td>1997.0</td>\n      <td>Kqed Books</td>\n      <td>7.0</td>\n    </tr>\n    <tr>\n      <th>1031131</th>\n      <td>278851</td>\n      <td>33.000000</td>\n      <td>Mapsco</td>\n      <td>1999.0</td>\n      <td>American Map Corporation</td>\n      <td>10.0</td>\n    </tr>\n  </tbody>\n</table>\n<p>1031132 rows × 6 columns</p>\n</div>"
     },
     "execution_count": 19,
     "metadata": {},
     "output_type": "execute_result"
    }
   ],
   "source": [
    "df"
   ],
   "metadata": {
    "collapsed": false,
    "pycharm": {
     "name": "#%%\n"
    }
   }
  },
  {
   "cell_type": "code",
   "execution_count": 8,
   "outputs": [
    {
     "name": "stderr",
     "output_type": "stream",
     "text": [
      "/home/peiji/anaconda3/envs/mytorch/lib/python3.9/site-packages/pandas/core/indexing.py:1773: SettingWithCopyWarning: \n",
      "A value is trying to be set on a copy of a slice from a DataFrame.\n",
      "Try using .loc[row_indexer,col_indexer] = value instead\n",
      "\n",
      "See the caveats in the documentation: https://pandas.pydata.org/pandas-docs/stable/user_guide/indexing.html#returning-a-view-versus-a-copy\n",
      "  self._setitem_single_column(ilocs[0], value, pi)\n",
      "/home/peiji/anaconda3/envs/mytorch/lib/python3.9/site-packages/pandas/core/indexing.py:1835: SettingWithCopyWarning: \n",
      "A value is trying to be set on a copy of a slice from a DataFrame.\n",
      "Try using .loc[row_indexer,col_indexer] = value instead\n",
      "\n",
      "See the caveats in the documentation: https://pandas.pydata.org/pandas-docs/stable/user_guide/indexing.html#returning-a-view-versus-a-copy\n",
      "  self._setitem_single_column(loc, value[:, i].tolist(), pi)\n",
      "/home/peiji/anaconda3/envs/mytorch/lib/python3.9/site-packages/pandas/core/indexing.py:1835: SettingWithCopyWarning: \n",
      "A value is trying to be set on a copy of a slice from a DataFrame.\n",
      "Try using .loc[row_indexer,col_indexer] = value instead\n",
      "\n",
      "See the caveats in the documentation: https://pandas.pydata.org/pandas-docs/stable/user_guide/indexing.html#returning-a-view-versus-a-copy\n",
      "  self._setitem_single_column(loc, value[:, i].tolist(), pi)\n",
      "/home/peiji/anaconda3/envs/mytorch/lib/python3.9/site-packages/pandas/core/indexing.py:1835: SettingWithCopyWarning: \n",
      "A value is trying to be set on a copy of a slice from a DataFrame.\n",
      "Try using .loc[row_indexer,col_indexer] = value instead\n",
      "\n",
      "See the caveats in the documentation: https://pandas.pydata.org/pandas-docs/stable/user_guide/indexing.html#returning-a-view-versus-a-copy\n",
      "  self._setitem_single_column(loc, value[:, i].tolist(), pi)\n"
     ]
    }
   ],
   "source": [
    "df.iloc[:, 2] = labelencoder.fit_transform(df.iloc[:, 2])\n",
    "df.iloc[:, 4] = labelencoder.fit_transform(df.iloc[:, 4])\n",
    "df.iloc[:, 0] = KBinsDiscretizer(n_bins=200,encode=\"ordinal\",strategy=\"uniform\").fit_transform(df.iloc[:, 0].values.reshape(-1, 1))\n",
    "df.iloc[:, 2] = KBinsDiscretizer(n_bins=200,encode=\"ordinal\",strategy=\"uniform\").fit_transform(df.iloc[:, 2].values.reshape(-1, 1))\n",
    "df.iloc[:, 4] = KBinsDiscretizer(n_bins=200,encode=\"ordinal\",strategy=\"uniform\").fit_transform(df.iloc[:, 4].values.reshape(-1, 1))"
   ],
   "metadata": {
    "collapsed": false,
    "pycharm": {
     "name": "#%%\n"
    }
   }
  },
  {
   "cell_type": "code",
   "execution_count": 20,
   "outputs": [
    {
     "data": {
      "text/plain": "user_id                 92106\nage                        93\nbook_author            101587\nyear_of_publication       109\npublisher               16727\nrating                     11\ndtype: int64"
     },
     "execution_count": 20,
     "metadata": {},
     "output_type": "execute_result"
    }
   ],
   "source": [
    "df.nunique()"
   ],
   "metadata": {
    "collapsed": false,
    "pycharm": {
     "name": "#%%\n"
    }
   }
  },
  {
   "cell_type": "code",
   "execution_count": 10,
   "outputs": [],
   "source": [
    "data1 = onehotendoer.fit_transform(df).toarray()"
   ],
   "metadata": {
    "collapsed": false,
    "pycharm": {
     "name": "#%%\n"
    }
   }
  },
  {
   "cell_type": "code",
   "execution_count": 12,
   "outputs": [
    {
     "data": {
      "text/plain": "(1031132, 813)"
     },
     "execution_count": 12,
     "metadata": {},
     "output_type": "execute_result"
    }
   ],
   "source": [
    "data1.shape"
   ],
   "metadata": {
    "collapsed": false,
    "pycharm": {
     "name": "#%%\n"
    }
   }
  },
  {
   "cell_type": "code",
   "execution_count": 9,
   "outputs": [],
   "source": [
    "data = np.array(df)"
   ],
   "metadata": {
    "collapsed": false,
    "pycharm": {
     "name": "#%%\n"
    }
   }
  },
  {
   "cell_type": "code",
   "execution_count": 10,
   "outputs": [
    {
     "ename": "MemoryError",
     "evalue": "Unable to allocate 1.58 TiB for an array with shape (1031132, 210633) and data type float64",
     "output_type": "error",
     "traceback": [
      "\u001B[0;31m---------------------------------------------------------------------------\u001B[0m",
      "\u001B[0;31mMemoryError\u001B[0m                               Traceback (most recent call last)",
      "Input \u001B[0;32mIn [10]\u001B[0m, in \u001B[0;36m<cell line: 1>\u001B[0;34m()\u001B[0m\n\u001B[0;32m----> 1\u001B[0m data1 \u001B[38;5;241m=\u001B[39m \u001B[43monehotendoer\u001B[49m\u001B[38;5;241;43m.\u001B[39;49m\u001B[43mfit_transform\u001B[49m\u001B[43m(\u001B[49m\u001B[43mdata\u001B[49m\u001B[43m)\u001B[49m\u001B[38;5;241;43m.\u001B[39;49m\u001B[43mtoarray\u001B[49m\u001B[43m(\u001B[49m\u001B[43m)\u001B[49m\n",
      "File \u001B[0;32m~/anaconda3/envs/mytorch/lib/python3.9/site-packages/scipy/sparse/_compressed.py:1051\u001B[0m, in \u001B[0;36m_cs_matrix.toarray\u001B[0;34m(self, order, out)\u001B[0m\n\u001B[1;32m   1049\u001B[0m \u001B[38;5;28;01mif\u001B[39;00m out \u001B[38;5;129;01mis\u001B[39;00m \u001B[38;5;28;01mNone\u001B[39;00m \u001B[38;5;129;01mand\u001B[39;00m order \u001B[38;5;129;01mis\u001B[39;00m \u001B[38;5;28;01mNone\u001B[39;00m:\n\u001B[1;32m   1050\u001B[0m     order \u001B[38;5;241m=\u001B[39m \u001B[38;5;28mself\u001B[39m\u001B[38;5;241m.\u001B[39m_swap(\u001B[38;5;124m'\u001B[39m\u001B[38;5;124mcf\u001B[39m\u001B[38;5;124m'\u001B[39m)[\u001B[38;5;241m0\u001B[39m]\n\u001B[0;32m-> 1051\u001B[0m out \u001B[38;5;241m=\u001B[39m \u001B[38;5;28;43mself\u001B[39;49m\u001B[38;5;241;43m.\u001B[39;49m\u001B[43m_process_toarray_args\u001B[49m\u001B[43m(\u001B[49m\u001B[43morder\u001B[49m\u001B[43m,\u001B[49m\u001B[43m \u001B[49m\u001B[43mout\u001B[49m\u001B[43m)\u001B[49m\n\u001B[1;32m   1052\u001B[0m \u001B[38;5;28;01mif\u001B[39;00m \u001B[38;5;129;01mnot\u001B[39;00m (out\u001B[38;5;241m.\u001B[39mflags\u001B[38;5;241m.\u001B[39mc_contiguous \u001B[38;5;129;01mor\u001B[39;00m out\u001B[38;5;241m.\u001B[39mflags\u001B[38;5;241m.\u001B[39mf_contiguous):\n\u001B[1;32m   1053\u001B[0m     \u001B[38;5;28;01mraise\u001B[39;00m \u001B[38;5;167;01mValueError\u001B[39;00m(\u001B[38;5;124m'\u001B[39m\u001B[38;5;124mOutput array must be C or F contiguous\u001B[39m\u001B[38;5;124m'\u001B[39m)\n",
      "File \u001B[0;32m~/anaconda3/envs/mytorch/lib/python3.9/site-packages/scipy/sparse/_base.py:1298\u001B[0m, in \u001B[0;36mspmatrix._process_toarray_args\u001B[0;34m(self, order, out)\u001B[0m\n\u001B[1;32m   1296\u001B[0m     \u001B[38;5;28;01mreturn\u001B[39;00m out\n\u001B[1;32m   1297\u001B[0m \u001B[38;5;28;01melse\u001B[39;00m:\n\u001B[0;32m-> 1298\u001B[0m     \u001B[38;5;28;01mreturn\u001B[39;00m \u001B[43mnp\u001B[49m\u001B[38;5;241;43m.\u001B[39;49m\u001B[43mzeros\u001B[49m\u001B[43m(\u001B[49m\u001B[38;5;28;43mself\u001B[39;49m\u001B[38;5;241;43m.\u001B[39;49m\u001B[43mshape\u001B[49m\u001B[43m,\u001B[49m\u001B[43m \u001B[49m\u001B[43mdtype\u001B[49m\u001B[38;5;241;43m=\u001B[39;49m\u001B[38;5;28;43mself\u001B[39;49m\u001B[38;5;241;43m.\u001B[39;49m\u001B[43mdtype\u001B[49m\u001B[43m,\u001B[49m\u001B[43m \u001B[49m\u001B[43morder\u001B[49m\u001B[38;5;241;43m=\u001B[39;49m\u001B[43morder\u001B[49m\u001B[43m)\u001B[49m\n",
      "\u001B[0;31mMemoryError\u001B[0m: Unable to allocate 1.58 TiB for an array with shape (1031132, 210633) and data type float64"
     ]
    }
   ],
   "source": [
    "data1 = onehotendoer.fit_transform(data).toarray()"
   ],
   "metadata": {
    "collapsed": false,
    "pycharm": {
     "name": "#%%\n"
    }
   }
  },
  {
   "cell_type": "code",
   "execution_count": 14,
   "outputs": [],
   "source": [
    "data = [(data[i][:-1], data[i][-1]) for i in range(data.shape[0])]"
   ],
   "metadata": {
    "collapsed": false,
    "pycharm": {
     "name": "#%%\n"
    }
   }
  },
  {
   "cell_type": "code",
   "execution_count": 15,
   "outputs": [],
   "source": [
    "a = data[11]"
   ],
   "metadata": {
    "collapsed": false,
    "pycharm": {
     "name": "#%%\n"
    }
   }
  },
  {
   "cell_type": "code",
   "execution_count": 17,
   "outputs": [
    {
     "data": {
      "text/plain": "8.0"
     },
     "execution_count": 17,
     "metadata": {},
     "output_type": "execute_result"
    }
   ],
   "source": [
    "a[1]"
   ],
   "metadata": {
    "collapsed": false,
    "pycharm": {
     "name": "#%%\n"
    }
   }
  },
  {
   "cell_type": "code",
   "execution_count": 16,
   "outputs": [
    {
     "data": {
      "text/plain": "[200273.0, 34.744129035351655, 81140.0, 2001.0, 6653.0]"
     },
     "execution_count": 16,
     "metadata": {},
     "output_type": "execute_result"
    }
   ],
   "source": [
    "list(a[0])"
   ],
   "metadata": {
    "collapsed": false,
    "pycharm": {
     "name": "#%%\n"
    }
   }
  },
  {
   "cell_type": "code",
   "execution_count": 27,
   "outputs": [
    {
     "ename": "MemoryError",
     "evalue": "Unable to allocate 5.42 TiB for an array with shape (1031132, 721849) and data type float64",
     "output_type": "error",
     "traceback": [
      "\u001B[0;31m---------------------------------------------------------------------------\u001B[0m",
      "\u001B[0;31mMemoryError\u001B[0m                               Traceback (most recent call last)",
      "Input \u001B[0;32mIn [27]\u001B[0m, in \u001B[0;36m<cell line: 1>\u001B[0;34m()\u001B[0m\n\u001B[0;32m----> 1\u001B[0m dfa \u001B[38;5;241m=\u001B[39m \u001B[43monehotendoer\u001B[49m\u001B[38;5;241;43m.\u001B[39;49m\u001B[43mfit_transform\u001B[49m\u001B[43m(\u001B[49m\u001B[43mdf\u001B[49m\u001B[43m)\u001B[49m\u001B[38;5;241;43m.\u001B[39;49m\u001B[43mtoarray\u001B[49m\u001B[43m(\u001B[49m\u001B[43m)\u001B[49m\n",
      "File \u001B[0;32m~/anaconda3/envs/mytorch/lib/python3.9/site-packages/scipy/sparse/_compressed.py:1051\u001B[0m, in \u001B[0;36m_cs_matrix.toarray\u001B[0;34m(self, order, out)\u001B[0m\n\u001B[1;32m   1049\u001B[0m \u001B[38;5;28;01mif\u001B[39;00m out \u001B[38;5;129;01mis\u001B[39;00m \u001B[38;5;28;01mNone\u001B[39;00m \u001B[38;5;129;01mand\u001B[39;00m order \u001B[38;5;129;01mis\u001B[39;00m \u001B[38;5;28;01mNone\u001B[39;00m:\n\u001B[1;32m   1050\u001B[0m     order \u001B[38;5;241m=\u001B[39m \u001B[38;5;28mself\u001B[39m\u001B[38;5;241m.\u001B[39m_swap(\u001B[38;5;124m'\u001B[39m\u001B[38;5;124mcf\u001B[39m\u001B[38;5;124m'\u001B[39m)[\u001B[38;5;241m0\u001B[39m]\n\u001B[0;32m-> 1051\u001B[0m out \u001B[38;5;241m=\u001B[39m \u001B[38;5;28;43mself\u001B[39;49m\u001B[38;5;241;43m.\u001B[39;49m\u001B[43m_process_toarray_args\u001B[49m\u001B[43m(\u001B[49m\u001B[43morder\u001B[49m\u001B[43m,\u001B[49m\u001B[43m \u001B[49m\u001B[43mout\u001B[49m\u001B[43m)\u001B[49m\n\u001B[1;32m   1052\u001B[0m \u001B[38;5;28;01mif\u001B[39;00m \u001B[38;5;129;01mnot\u001B[39;00m (out\u001B[38;5;241m.\u001B[39mflags\u001B[38;5;241m.\u001B[39mc_contiguous \u001B[38;5;129;01mor\u001B[39;00m out\u001B[38;5;241m.\u001B[39mflags\u001B[38;5;241m.\u001B[39mf_contiguous):\n\u001B[1;32m   1053\u001B[0m     \u001B[38;5;28;01mraise\u001B[39;00m \u001B[38;5;167;01mValueError\u001B[39;00m(\u001B[38;5;124m'\u001B[39m\u001B[38;5;124mOutput array must be C or F contiguous\u001B[39m\u001B[38;5;124m'\u001B[39m)\n",
      "File \u001B[0;32m~/anaconda3/envs/mytorch/lib/python3.9/site-packages/scipy/sparse/_base.py:1298\u001B[0m, in \u001B[0;36mspmatrix._process_toarray_args\u001B[0;34m(self, order, out)\u001B[0m\n\u001B[1;32m   1296\u001B[0m     \u001B[38;5;28;01mreturn\u001B[39;00m out\n\u001B[1;32m   1297\u001B[0m \u001B[38;5;28;01melse\u001B[39;00m:\n\u001B[0;32m-> 1298\u001B[0m     \u001B[38;5;28;01mreturn\u001B[39;00m \u001B[43mnp\u001B[49m\u001B[38;5;241;43m.\u001B[39;49m\u001B[43mzeros\u001B[49m\u001B[43m(\u001B[49m\u001B[38;5;28;43mself\u001B[39;49m\u001B[38;5;241;43m.\u001B[39;49m\u001B[43mshape\u001B[49m\u001B[43m,\u001B[49m\u001B[43m \u001B[49m\u001B[43mdtype\u001B[49m\u001B[38;5;241;43m=\u001B[39;49m\u001B[38;5;28;43mself\u001B[39;49m\u001B[38;5;241;43m.\u001B[39;49m\u001B[43mdtype\u001B[49m\u001B[43m,\u001B[49m\u001B[43m \u001B[49m\u001B[43morder\u001B[49m\u001B[38;5;241;43m=\u001B[39;49m\u001B[43morder\u001B[49m\u001B[43m)\u001B[49m\n",
      "\u001B[0;31mMemoryError\u001B[0m: Unable to allocate 5.42 TiB for an array with shape (1031132, 721849) and data type float64"
     ]
    }
   ],
   "source": [
    "dfa = onehotendoer.fit_transform(data).toarray()"
   ],
   "metadata": {
    "collapsed": false,
    "pycharm": {
     "name": "#%%\n"
    }
   }
  },
  {
   "cell_type": "markdown",
   "source": [],
   "metadata": {
    "collapsed": false
   }
  }
 ],
 "metadata": {
  "kernelspec": {
   "display_name": "Python 3",
   "language": "python",
   "name": "python3"
  },
  "language_info": {
   "codemirror_mode": {
    "name": "ipython",
    "version": 2
   },
   "file_extension": ".py",
   "mimetype": "text/x-python",
   "name": "python",
   "nbconvert_exporter": "python",
   "pygments_lexer": "ipython2",
   "version": "2.7.6"
  }
 },
 "nbformat": 4,
 "nbformat_minor": 0
}